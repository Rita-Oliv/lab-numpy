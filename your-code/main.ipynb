{
 "cells": [
  {
   "cell_type": "markdown",
   "metadata": {},
   "source": [
    "# Intrduction to NumPy\n",
    "\n",
    "\n",
    "#### 1. Import NumPy under the name np."
   ]
  },
  {
   "cell_type": "code",
   "execution_count": 3,
   "metadata": {},
   "outputs": [],
   "source": [
    "import numpy as np"
   ]
  },
  {
   "cell_type": "markdown",
   "metadata": {},
   "source": [
    "#### 2. Print your NumPy version."
   ]
  },
  {
   "cell_type": "code",
   "execution_count": 4,
   "metadata": {},
   "outputs": [
    {
     "name": "stdout",
     "output_type": "stream",
     "text": [
      "NumPy version  1.21.2\n"
     ]
    }
   ],
   "source": [
    "print('NumPy version ', np.version.version)"
   ]
  },
  {
   "cell_type": "markdown",
   "metadata": {},
   "source": [
    "#### 3. Generate a 2x3x5 3-dimensional array with random values. Assign the array to variable *a*.\n",
    "**Challenge**: there are at least three easy ways that use numpy to generate random arrays. How many ways can you find?"
   ]
  },
  {
   "cell_type": "code",
   "execution_count": 5,
   "metadata": {},
   "outputs": [
    {
     "data": {
      "text/plain": [
       "array([[[0.49124169, 0.61662417, 0.22696519, 0.82437445, 0.56495361],\n",
       "        [0.8040861 , 0.32476507, 0.15342866, 0.86888934, 0.48669593],\n",
       "        [0.84577651, 0.23119729, 0.298772  , 0.51598991, 0.43104926]],\n",
       "\n",
       "       [[0.28605839, 0.11757199, 0.61813511, 0.5563093 , 0.02271394],\n",
       "        [0.99026919, 0.1542093 , 0.86643939, 0.65229791, 0.65780072],\n",
       "        [0.60874595, 0.68521053, 0.81051129, 0.29454926, 0.93984778]]])"
      ]
     },
     "execution_count": 5,
     "metadata": {},
     "output_type": "execute_result"
    }
   ],
   "source": [
    "# Method 1 :\n",
    "from numpy.random import default_rng\n",
    "default_rng().random((2,3,5))"
   ]
  },
  {
   "cell_type": "code",
   "execution_count": 6,
   "metadata": {},
   "outputs": [
    {
     "data": {
      "text/plain": [
       "array([[[0, 0, 0, 0, 0],\n",
       "        [1, 1, 1, 1, 1],\n",
       "        [2, 2, 2, 2, 2]],\n",
       "\n",
       "       [[0, 1, 2, 3, 4],\n",
       "        [0, 1, 2, 3, 4],\n",
       "        [0, 1, 2, 3, 4]]])"
      ]
     },
     "execution_count": 6,
     "metadata": {},
     "output_type": "execute_result"
    }
   ],
   "source": [
    "# Method 2 (not sure if this counts)\n",
    "np.indices((3,5))"
   ]
  },
  {
   "cell_type": "code",
   "execution_count": null,
   "metadata": {},
   "outputs": [],
   "source": []
  },
  {
   "cell_type": "code",
   "execution_count": 7,
   "metadata": {},
   "outputs": [
    {
     "data": {
      "text/plain": [
       "array([[[0.07945509, 0.21197343, 0.88460671, 0.08406554, 0.43531483],\n",
       "        [0.47423558, 0.75609191, 0.2116488 , 0.94229273, 0.0251203 ],\n",
       "        [0.66895486, 0.99780554, 0.23502344, 0.10967702, 0.94416821]],\n",
       "\n",
       "       [[0.59014129, 0.91042138, 0.29572563, 0.62432935, 0.39139568],\n",
       "        [0.65328726, 0.93337717, 0.05558831, 0.06084968, 0.04269458],\n",
       "        [0.26231223, 0.40686151, 0.15586606, 0.17450013, 0.87264132]]])"
      ]
     },
     "execution_count": 7,
     "metadata": {},
     "output_type": "execute_result"
    }
   ],
   "source": [
    "# Method 3\n",
    "np.random.rand(2,3,5)"
   ]
  },
  {
   "cell_type": "code",
   "execution_count": 8,
   "metadata": {},
   "outputs": [],
   "source": [
    "#Method 4\n",
    "a = np.array([[np.random.rand(5) for x in range(0,3)] for i in range(0,2)])"
   ]
  },
  {
   "cell_type": "markdown",
   "metadata": {},
   "source": [
    "#### 4. Print *a*.\n"
   ]
  },
  {
   "cell_type": "code",
   "execution_count": 9,
   "metadata": {},
   "outputs": [
    {
     "name": "stdout",
     "output_type": "stream",
     "text": [
      "[[[5.23680818e-01 4.79935695e-01 1.05210636e-01 9.67373827e-01\n",
      "   6.78064336e-02]\n",
      "  [8.24645168e-01 9.86623256e-01 6.02620237e-01 3.03262263e-01\n",
      "   5.71973944e-01]\n",
      "  [9.58929872e-01 1.66995452e-01 5.03152469e-01 6.33873490e-01\n",
      "   6.97277399e-01]]\n",
      "\n",
      " [[6.22727850e-01 1.18227568e-01 8.79024327e-01 7.48560786e-01\n",
      "   7.91260509e-01]\n",
      "  [8.48709683e-01 2.47277214e-01 9.24337938e-01 5.46470791e-04\n",
      "   6.95129392e-01]\n",
      "  [3.74239897e-01 4.36561167e-01 2.66613103e-01 3.15421679e-01\n",
      "   3.49640061e-01]]]\n"
     ]
    }
   ],
   "source": [
    "print(a)"
   ]
  },
  {
   "cell_type": "markdown",
   "metadata": {},
   "source": [
    "#### 5. Create a 5x2x3 3-dimensional array with all values equaling 1. Assign the array to variable *b*."
   ]
  },
  {
   "cell_type": "code",
   "execution_count": 10,
   "metadata": {},
   "outputs": [],
   "source": [
    "b = np.ones([5,2,3])"
   ]
  },
  {
   "cell_type": "markdown",
   "metadata": {},
   "source": [
    "#### 6. Print *b*.\n"
   ]
  },
  {
   "cell_type": "code",
   "execution_count": 11,
   "metadata": {},
   "outputs": [
    {
     "name": "stdout",
     "output_type": "stream",
     "text": [
      "[[[1. 1. 1.]\n",
      "  [1. 1. 1.]]\n",
      "\n",
      " [[1. 1. 1.]\n",
      "  [1. 1. 1.]]\n",
      "\n",
      " [[1. 1. 1.]\n",
      "  [1. 1. 1.]]\n",
      "\n",
      " [[1. 1. 1.]\n",
      "  [1. 1. 1.]]\n",
      "\n",
      " [[1. 1. 1.]\n",
      "  [1. 1. 1.]]]\n"
     ]
    }
   ],
   "source": [
    "print(b)"
   ]
  },
  {
   "cell_type": "markdown",
   "metadata": {},
   "source": [
    "#### 7. Do *a* and *b* have the same size? How do you prove that in Python code?"
   ]
  },
  {
   "cell_type": "code",
   "execution_count": 12,
   "metadata": {},
   "outputs": [
    {
     "name": "stdout",
     "output_type": "stream",
     "text": [
      "If len(a) = 2 and len(b) = 5 than False\n",
      "True\n"
     ]
    }
   ],
   "source": [
    "#\n",
    "print(f'If len(a) = {len(a)} and len(b) = {len(b)} than {len(a) == len(b)}')\n",
    "#To see if the size is the samen we should use:\n",
    "print(a.size == b.size)"
   ]
  },
  {
   "cell_type": "markdown",
   "metadata": {},
   "source": [
    "#### 8. Are you able to add *a* and *b*? Why or why not?\n"
   ]
  },
  {
   "cell_type": "code",
   "execution_count": 13,
   "metadata": {},
   "outputs": [
    {
     "ename": "ValueError",
     "evalue": "operands could not be broadcast together with shapes (2,3,5) (5,2,3) ",
     "output_type": "error",
     "traceback": [
      "\u001b[0;31m---------------------------------------------------------------------------\u001b[0m",
      "\u001b[0;31mValueError\u001b[0m                                Traceback (most recent call last)",
      "\u001b[0;32m/var/folders/zl/64_yxwls4ld4zjxrnk6t2yth0000gn/T/ipykernel_39100/769098056.py\u001b[0m in \u001b[0;36m<module>\u001b[0;34m\u001b[0m\n\u001b[1;32m      1\u001b[0m \u001b[0;31m#If it's possible? No.\u001b[0m\u001b[0;34m\u001b[0m\u001b[0;34m\u001b[0m\u001b[0;34m\u001b[0m\u001b[0m\n\u001b[1;32m      2\u001b[0m \u001b[0;34m\u001b[0m\u001b[0m\n\u001b[0;32m----> 3\u001b[0;31m \u001b[0mab\u001b[0m \u001b[0;34m=\u001b[0m \u001b[0ma\u001b[0m\u001b[0;34m+\u001b[0m\u001b[0mb\u001b[0m\u001b[0;34m\u001b[0m\u001b[0;34m\u001b[0m\u001b[0m\n\u001b[0m\u001b[1;32m      4\u001b[0m \u001b[0mprint\u001b[0m\u001b[0;34m(\u001b[0m\u001b[0mab\u001b[0m\u001b[0;34m)\u001b[0m\u001b[0;34m\u001b[0m\u001b[0;34m\u001b[0m\u001b[0m\n",
      "\u001b[0;31mValueError\u001b[0m: operands could not be broadcast together with shapes (2,3,5) (5,2,3) "
     ]
    }
   ],
   "source": [
    "#If it's possible? No.\n",
    "\n",
    "ab = a+b\n",
    "print(ab)"
   ]
  },
  {
   "cell_type": "markdown",
   "metadata": {},
   "source": [
    "#### 9. Transpose *b* so that it has the same structure of *a* (i.e. become a 2x3x5 array). Assign the transposed array to variable *c*."
   ]
  },
  {
   "cell_type": "code",
   "execution_count": 16,
   "metadata": {},
   "outputs": [
    {
     "name": "stdout",
     "output_type": "stream",
     "text": [
      "[[[1. 1. 1. 1. 1.]\n",
      "  [1. 1. 1. 1. 1.]\n",
      "  [1. 1. 1. 1. 1.]]\n",
      "\n",
      " [[1. 1. 1. 1. 1.]\n",
      "  [1. 1. 1. 1. 1.]\n",
      "  [1. 1. 1. 1. 1.]]]\n"
     ]
    }
   ],
   "source": [
    "#2 is n. of times, 3 n. of rows, 5 n. columns\n",
    "c = b.reshape([2,3,5])\n",
    "print(c)"
   ]
  },
  {
   "cell_type": "markdown",
   "metadata": {},
   "source": [
    "#### 10. Try to add *a* and *c*. Now it should work. Assign the sum to variable *d*. But why does it work now?"
   ]
  },
  {
   "cell_type": "code",
   "execution_count": 17,
   "metadata": {},
   "outputs": [
    {
     "name": "stdout",
     "output_type": "stream",
     "text": [
      "[[[1.52368082 1.47993569 1.10521064 1.96737383 1.06780643]\n",
      "  [1.82464517 1.98662326 1.60262024 1.30326226 1.57197394]\n",
      "  [1.95892987 1.16699545 1.50315247 1.63387349 1.6972774 ]]\n",
      "\n",
      " [[1.62272785 1.11822757 1.87902433 1.74856079 1.79126051]\n",
      "  [1.84870968 1.24727721 1.92433794 1.00054647 1.69512939]\n",
      "  [1.3742399  1.43656117 1.2666131  1.31542168 1.34964006]]]\n"
     ]
    }
   ],
   "source": [
    "d = a+c\n",
    "print(d)"
   ]
  },
  {
   "cell_type": "markdown",
   "metadata": {},
   "source": [
    "#### 11. Print *a* and *d*. Notice the difference and relation of the two array in terms of the values? Explain."
   ]
  },
  {
   "cell_type": "code",
   "execution_count": 18,
   "metadata": {},
   "outputs": [
    {
     "name": "stdout",
     "output_type": "stream",
     "text": [
      "[[[5.23680818e-01 4.79935695e-01 1.05210636e-01 9.67373827e-01\n",
      "   6.78064336e-02]\n",
      "  [8.24645168e-01 9.86623256e-01 6.02620237e-01 3.03262263e-01\n",
      "   5.71973944e-01]\n",
      "  [9.58929872e-01 1.66995452e-01 5.03152469e-01 6.33873490e-01\n",
      "   6.97277399e-01]]\n",
      "\n",
      " [[6.22727850e-01 1.18227568e-01 8.79024327e-01 7.48560786e-01\n",
      "   7.91260509e-01]\n",
      "  [8.48709683e-01 2.47277214e-01 9.24337938e-01 5.46470791e-04\n",
      "   6.95129392e-01]\n",
      "  [3.74239897e-01 4.36561167e-01 2.66613103e-01 3.15421679e-01\n",
      "   3.49640061e-01]]]\n",
      "[[[1.52368082 1.47993569 1.10521064 1.96737383 1.06780643]\n",
      "  [1.82464517 1.98662326 1.60262024 1.30326226 1.57197394]\n",
      "  [1.95892987 1.16699545 1.50315247 1.63387349 1.6972774 ]]\n",
      "\n",
      " [[1.62272785 1.11822757 1.87902433 1.74856079 1.79126051]\n",
      "  [1.84870968 1.24727721 1.92433794 1.00054647 1.69512939]\n",
      "  [1.3742399  1.43656117 1.2666131  1.31542168 1.34964006]]]\n",
      "[[[5.23680818e-01 4.79935695e-01 1.05210636e-01 9.67373827e-01\n",
      "   6.78064336e-02]\n",
      "  [8.24645168e-01 9.86623256e-01 6.02620237e-01 3.03262263e-01\n",
      "   5.71973944e-01]\n",
      "  [9.58929872e-01 1.66995452e-01 5.03152469e-01 6.33873490e-01\n",
      "   6.97277399e-01]]\n",
      "\n",
      " [[6.22727850e-01 1.18227568e-01 8.79024327e-01 7.48560786e-01\n",
      "   7.91260509e-01]\n",
      "  [8.48709683e-01 2.47277214e-01 9.24337938e-01 5.46470791e-04\n",
      "   6.95129392e-01]\n",
      "  [3.74239897e-01 4.36561167e-01 2.66613103e-01 3.15421679e-01\n",
      "   3.49640061e-01]]]\n"
     ]
    }
   ],
   "source": [
    "print(a)\n",
    "print(d)\n",
    "#'d' is each value in 'a' with one value added\n",
    "#because when we added 'c' to 'a' what we did was just that, add the value of one cell of 'a' to 'c'\n",
    "print(d-1)"
   ]
  },
  {
   "cell_type": "markdown",
   "metadata": {},
   "source": [
    "#### 12. Multiply *a* and *c*. Assign the result to *e*."
   ]
  },
  {
   "cell_type": "code",
   "execution_count": 19,
   "metadata": {},
   "outputs": [
    {
     "name": "stdout",
     "output_type": "stream",
     "text": [
      "[[[5.23680818e-01 4.79935695e-01 1.05210636e-01 9.67373827e-01\n",
      "   6.78064336e-02]\n",
      "  [8.24645168e-01 9.86623256e-01 6.02620237e-01 3.03262263e-01\n",
      "   5.71973944e-01]\n",
      "  [9.58929872e-01 1.66995452e-01 5.03152469e-01 6.33873490e-01\n",
      "   6.97277399e-01]]\n",
      "\n",
      " [[6.22727850e-01 1.18227568e-01 8.79024327e-01 7.48560786e-01\n",
      "   7.91260509e-01]\n",
      "  [8.48709683e-01 2.47277214e-01 9.24337938e-01 5.46470791e-04\n",
      "   6.95129392e-01]\n",
      "  [3.74239897e-01 4.36561167e-01 2.66613103e-01 3.15421679e-01\n",
      "   3.49640061e-01]]]\n"
     ]
    }
   ],
   "source": [
    "e = a*c\n",
    "print(e)"
   ]
  },
  {
   "cell_type": "markdown",
   "metadata": {},
   "source": [
    "#### 13. Does *e* equal to *a*? Why or why not?\n"
   ]
  },
  {
   "cell_type": "code",
   "execution_count": 20,
   "metadata": {},
   "outputs": [],
   "source": [
    "#As explain in 11. what happens is that we are multiplying each value of 'c' by the same position in 'a'\n",
    "#ex.: array[x y]*array[z w] = [x*z y*w]"
   ]
  },
  {
   "cell_type": "markdown",
   "metadata": {},
   "source": [
    "#### 14. Identify the max, min, and mean values in *d*. Assign those values to variables *d_max*, *d_min* and *d_mean*."
   ]
  },
  {
   "cell_type": "code",
   "execution_count": 21,
   "metadata": {},
   "outputs": [
    {
     "name": "stdout",
     "output_type": "stream",
     "text": [
      "1.9866232564924258 1.0005464707914906 1.5337212867655383\n"
     ]
    }
   ],
   "source": [
    "d_max = np.amax(d)\n",
    "d_min = np.amin(d)\n",
    "d_mean = np.mean(d)\n",
    "print(d_max, d_min, d_mean)"
   ]
  },
  {
   "cell_type": "markdown",
   "metadata": {},
   "source": [
    "#### 15. Now we want to label the values in *d*. First create an empty array *f* with the same shape (i.e. 2x3x5) as *d* using `np.empty`.\n"
   ]
  },
  {
   "cell_type": "code",
   "execution_count": 22,
   "metadata": {},
   "outputs": [
    {
     "name": "stdout",
     "output_type": "stream",
     "text": [
      "[[[5.23680818e-01 4.79935695e-01 1.05210636e-01 9.67373827e-01\n",
      "   6.78064336e-02]\n",
      "  [8.24645168e-01 9.86623256e-01 6.02620237e-01 3.03262263e-01\n",
      "   5.71973944e-01]\n",
      "  [9.58929872e-01 1.66995452e-01 5.03152469e-01 6.33873490e-01\n",
      "   6.97277399e-01]]\n",
      "\n",
      " [[6.22727850e-01 1.18227568e-01 8.79024327e-01 7.48560786e-01\n",
      "   7.91260509e-01]\n",
      "  [8.48709683e-01 2.47277214e-01 9.24337938e-01 5.46470791e-04\n",
      "   6.95129392e-01]\n",
      "  [3.74239897e-01 4.36561167e-01 2.66613103e-01 3.15421679e-01\n",
      "   3.49640061e-01]]]\n"
     ]
    }
   ],
   "source": [
    "f = np.empty((2,3,5))\n",
    "print(f)"
   ]
  },
  {
   "cell_type": "markdown",
   "metadata": {
    "tags": []
   },
   "source": [
    "#### 16. Populate the values in *f*. \n",
    "\n",
    "For each value in *d*, if it's larger than *d_min* but smaller than *d_mean*, assign 25 to the corresponding value in *f*. If a value in *d* is larger than *d_mean* but smaller than *d_max*, assign 75 to the corresponding value in *f*. If a value equals to *d_mean*, assign 50 to the corresponding value in *f*. Assign 0 to the corresponding value(s) in *f* for *d_min* in *d*. Assign 100 to the corresponding value(s) in *f* for *d_max* in *d*. In the end, f should have only the following values: 0, 25, 50, 75, and 100.\n",
    "\n",
    "**Note**: you don't have to use Numpy in this question."
   ]
  },
  {
   "cell_type": "markdown",
   "metadata": {},
   "source": [
    "for value in 'd'\n",
    "    if value>d_min and value<d_mean = 25\n",
    "    if value>dmean and value<d_max = 75\n",
    "    if value == d_mean = 50\n",
    "    if value == d_min = 0\n",
    "    if value == d_max = 100"
   ]
  },
  {
   "cell_type": "code",
   "execution_count": 23,
   "metadata": {},
   "outputs": [
    {
     "name": "stdout",
     "output_type": "stream",
     "text": [
      "[[[ 25.  25.  25.  75.  25.]\n",
      "  [ 75. 100.  75.  25.  75.]\n",
      "  [ 75.  25.  25.  75.  75.]]\n",
      "\n",
      " [[ 75.  25.  75.  75.  75.]\n",
      "  [ 75.  25.  75.   0.  75.]\n",
      "  [ 25.  25.  25.  25.  25.]]]\n"
     ]
    }
   ],
   "source": [
    "for index, x in np.ndenumerate(d):\n",
    "        if x == d_min:\n",
    "            f[index] = 0\n",
    "        elif x < d_mean:\n",
    "            f[index] = 25\n",
    "        elif x == d_mean:\n",
    "            f[index] = 50\n",
    "        elif x < d_max:\n",
    "            f[index] = 75\n",
    "        elif x == d_max:\n",
    "            f[index] = 100\n",
    "print(f)"
   ]
  },
  {
   "cell_type": "markdown",
   "metadata": {},
   "source": [
    "#### 17. Print *d* and *f*. Do you have your expected *f*?\n",
    "For instance, if your *d* is:\n",
    "```python\n",
    "[[[1.85836099, 1.67064465, 1.62576044, 1.40243961, 1.88454931],\n",
    "[1.75354326, 1.69403643, 1.36729252, 1.61415071, 1.12104981],\n",
    "[1.72201435, 1.1862918 , 1.87078449, 1.7726778 , 1.88180042]],\n",
    "[[1.44747908, 1.31673383, 1.02000951, 1.52218947, 1.97066381],\n",
    "[1.79129243, 1.74983003, 1.96028037, 1.85166831, 1.65450881],\n",
    "[1.18068344, 1.9587381 , 1.00656599, 1.93402165, 1.73514584]]]\n",
    "```\n",
    "Your *f* should be:\n",
    "```python\n",
    "[[[ 75.,  75.,  75.,  25.,  75.],\n",
    "[ 75.,  75.,  25.,  25.,  25.],\n",
    "[ 75.,  25.,  75.,  75.,  75.]],\n",
    "[[ 25.,  25.,  25.,  25., 100.],\n",
    "[ 75.,  75.,  75.,  75.,  75.],\n",
    "[ 25.,  75.,   0.,  75.,  75.]]]\n",
    "```"
   ]
  },
  {
   "cell_type": "code",
   "execution_count": 24,
   "metadata": {},
   "outputs": [
    {
     "name": "stdout",
     "output_type": "stream",
     "text": [
      "[[[1.52368082 1.47993569 1.10521064 1.96737383 1.06780643]\n",
      "  [1.82464517 1.98662326 1.60262024 1.30326226 1.57197394]\n",
      "  [1.95892987 1.16699545 1.50315247 1.63387349 1.6972774 ]]\n",
      "\n",
      " [[1.62272785 1.11822757 1.87902433 1.74856079 1.79126051]\n",
      "  [1.84870968 1.24727721 1.92433794 1.00054647 1.69512939]\n",
      "  [1.3742399  1.43656117 1.2666131  1.31542168 1.34964006]]]\n",
      "[[[ 25.  25.  25.  75.  25.]\n",
      "  [ 75. 100.  75.  25.  75.]\n",
      "  [ 75.  25.  25.  75.  75.]]\n",
      "\n",
      " [[ 75.  25.  75.  75.  75.]\n",
      "  [ 75.  25.  75.   0.  75.]\n",
      "  [ 25.  25.  25.  25.  25.]]]\n"
     ]
    }
   ],
   "source": [
    "print(d)\n",
    "print(f)"
   ]
  },
  {
   "cell_type": "markdown",
   "metadata": {},
   "source": [
    "#### 18. Bonus question: instead of using numbers (i.e. 0, 25, 50, 75, and 100), use string values  (\"A\", \"B\", \"C\", \"D\", and \"E\") to label the array elements. For the example above, the expected result is:\n",
    "\n",
    "```python\n",
    "[[[ 'D',  'D',  'D',  'B',  'D'],\n",
    "[ 'D',  'D',  'B',  'B',  'B'],\n",
    "[ 'D',  'B',  'D',  'D',  'D']],\n",
    "[[ 'B',  'B',  'B',  'B',  'E'],\n",
    "[ 'D',  'D',  'D',  'D',  'D'],\n",
    "[ 'B',  'D',   'A',  'D', 'D']]]\n",
    "```\n",
    "**Note**: you don't have to use Numpy in this question."
   ]
  },
  {
   "cell_type": "code",
   "execution_count": 44,
   "metadata": {},
   "outputs": [
    {
     "name": "stdout",
     "output_type": "stream",
     "text": [
      "[[['B' 'B' 'B' 'D' 'B']\n",
      "  ['D' 'E' 'D' 'B' 'D']\n",
      "  ['D' 'B' 'B' 'D' 'D']]\n",
      "\n",
      " [['D' 'B' 'D' 'D' 'D']\n",
      "  ['D' 'B' 'D' 'A' 'D']\n",
      "  ['B' 'B' 'B' 'B' 'B']]]\n"
     ]
    }
   ],
   "source": [
    "#f.insert(index, value)\n",
    "#f.pop(1)  2x3x5)\n",
    "\n",
    "f = f.astype(str)\n",
    "\n",
    "for index, x in np.ndenumerate(d):\n",
    "        if x == d_min:\n",
    "            f[index] = 'A'\n",
    "        elif x < d_mean:\n",
    "            f[index] = 'B'\n",
    "        elif x == d_mean:\n",
    "            f[index] = 'C'\n",
    "        elif x < d_max:\n",
    "            f[index] = 'D'\n",
    "        elif x == d_max:\n",
    "            f[index] = 'E'\n",
    "print(f)\n",
    "\n"
   ]
  },
  {
   "cell_type": "code",
   "execution_count": null,
   "metadata": {},
   "outputs": [],
   "source": []
  }
 ],
 "metadata": {
  "kernelspec": {
   "display_name": "Python 3 (ipykernel)",
   "language": "python",
   "name": "python3"
  },
  "language_info": {
   "codemirror_mode": {
    "name": "ipython",
    "version": 3
   },
   "file_extension": ".py",
   "mimetype": "text/x-python",
   "name": "python",
   "nbconvert_exporter": "python",
   "pygments_lexer": "ipython3",
   "version": "3.8.8"
  }
 },
 "nbformat": 4,
 "nbformat_minor": 4
}
